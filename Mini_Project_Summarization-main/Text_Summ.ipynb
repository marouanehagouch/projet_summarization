{
 "cells": [
  {
   "cell_type": "code",
   "execution_count": 1,
   "id": "340165dc",
   "metadata": {},
   "outputs": [
    {
     "name": "stdout",
     "output_type": "stream",
     "text": [
      "Requirement already satisfied: sklearn in c:\\programdata\\anaconda3\\lib\\site-packages (0.0)\n",
      "Requirement already satisfied: scikit-learn in c:\\programdata\\anaconda3\\lib\\site-packages (from sklearn) (0.24.1)\n",
      "Requirement already satisfied: numpy>=1.13.3 in c:\\programdata\\anaconda3\\lib\\site-packages (from scikit-learn->sklearn) (1.20.1)\n",
      "Requirement already satisfied: threadpoolctl>=2.0.0 in c:\\programdata\\anaconda3\\lib\\site-packages (from scikit-learn->sklearn) (2.1.0)\n",
      "Requirement already satisfied: scipy>=0.19.1 in c:\\programdata\\anaconda3\\lib\\site-packages (from scikit-learn->sklearn) (1.6.2)\n",
      "Requirement already satisfied: joblib>=0.11 in c:\\programdata\\anaconda3\\lib\\site-packages (from scikit-learn->sklearn) (1.0.1)\n"
     ]
    }
   ],
   "source": [
    "!pip install sklearn"
   ]
  },
  {
   "cell_type": "code",
   "execution_count": 2,
   "id": "4f370aa2",
   "metadata": {},
   "outputs": [
    {
     "name": "stdout",
     "output_type": "stream",
     "text": [
      "Requirement already satisfied: scipy in c:\\programdata\\anaconda3\\lib\\site-packages (1.6.2)\n",
      "Requirement already satisfied: numpy<1.23.0,>=1.16.5 in c:\\programdata\\anaconda3\\lib\\site-packages (from scipy) (1.20.1)\n"
     ]
    }
   ],
   "source": [
    "!pip install scipy"
   ]
  },
  {
   "cell_type": "code",
   "execution_count": 3,
   "id": "14c835af",
   "metadata": {},
   "outputs": [
    {
     "name": "stdout",
     "output_type": "stream",
     "text": [
      "Requirement already satisfied: pandas in c:\\programdata\\anaconda3\\lib\\site-packages (1.2.4)\n",
      "Requirement already satisfied: numpy>=1.16.5 in c:\\programdata\\anaconda3\\lib\\site-packages (from pandas) (1.20.1)\n",
      "Requirement already satisfied: python-dateutil>=2.7.3 in c:\\programdata\\anaconda3\\lib\\site-packages (from pandas) (2.8.1)\n",
      "Requirement already satisfied: pytz>=2017.3 in c:\\programdata\\anaconda3\\lib\\site-packages (from pandas) (2021.1)\n",
      "Requirement already satisfied: six>=1.5 in c:\\programdata\\anaconda3\\lib\\site-packages (from python-dateutil>=2.7.3->pandas) (1.15.0)\n"
     ]
    }
   ],
   "source": [
    "!pip install pandas"
   ]
  },
  {
   "cell_type": "code",
   "execution_count": 4,
   "id": "aee6bed5",
   "metadata": {},
   "outputs": [
    {
     "name": "stdout",
     "output_type": "stream",
     "text": [
      "Requirement already satisfied: numpy in c:\\programdata\\anaconda3\\lib\\site-packages (1.20.1)\n"
     ]
    }
   ],
   "source": [
    "!pip install numpy"
   ]
  },
  {
   "cell_type": "code",
   "execution_count": 5,
   "id": "8a08e99a",
   "metadata": {},
   "outputs": [
    {
     "name": "stdout",
     "output_type": "stream",
     "text": [
      "Requirement already satisfied: nltk in c:\\users\\hp\\appdata\\roaming\\python\\python38\\site-packages (3.6.2)\n",
      "Requirement already satisfied: click in c:\\programdata\\anaconda3\\lib\\site-packages (from nltk) (7.1.2)\n",
      "Requirement already satisfied: regex in c:\\programdata\\anaconda3\\lib\\site-packages (from nltk) (2021.4.4)\n",
      "Requirement already satisfied: joblib in c:\\programdata\\anaconda3\\lib\\site-packages (from nltk) (1.0.1)\n",
      "Requirement already satisfied: tqdm in c:\\programdata\\anaconda3\\lib\\site-packages (from nltk) (4.59.0)\n"
     ]
    }
   ],
   "source": [
    "!pip install nltk"
   ]
  },
  {
   "cell_type": "code",
   "execution_count": 7,
   "id": "55235b76",
   "metadata": {},
   "outputs": [],
   "source": [
    "import nltk as nltk"
   ]
  },
  {
   "cell_type": "code",
   "execution_count": 8,
   "id": "04b0e2db",
   "metadata": {},
   "outputs": [
    {
     "name": "stderr",
     "output_type": "stream",
     "text": [
      "[nltk_data] Downloading package stopwords to\n",
      "[nltk_data]     C:\\Users\\HP\\AppData\\Roaming\\nltk_data...\n",
      "[nltk_data]   Package stopwords is already up-to-date!\n"
     ]
    },
    {
     "data": {
      "text/plain": [
       "True"
      ]
     },
     "execution_count": 8,
     "metadata": {},
     "output_type": "execute_result"
    }
   ],
   "source": [
    "nltk.download('stopwords')"
   ]
  },
  {
   "cell_type": "code",
   "execution_count": 9,
   "id": "4ed3f726",
   "metadata": {},
   "outputs": [],
   "source": [
    "DOCUMENT=\"\"\"Morocco is growing as a popular tourist destination, as it's an incredibly \n",
    "accessible way to experience north African culture on a budget. Located \n",
    "on the north-western edge of the massive African continent, Morocco is \n",
    "just a quick flight from Europe.Budget airlines like Ryanair fly to Morocco for less \n",
    "than $100, so it's super easy to fit Morocco into a European travel adventure. \n",
    "If you're coming from elsewhere in the world, Marrakech, Casablanca, and Fez all\n",
    "have major international airports with reliable airlines flying in and out daily.\n",
    "With such easy flights available, there is no reason not to visit Morocco. \n",
    "This country has desert, mountains, beaches, small villages and big cities; \n",
    "a little something for everyone. The food is amazing, the culture is unique, \n",
    "and the prices are affordable. There are also a number of cultural tips and \n",
    "things to know before going to Morocco, which will be included in this list.\n",
    "So if you're still wondering, why go to Morocco? \n",
    "here is a list of reasons to travel to Morocco. \n",
    "These are things that I have personally experienced, \n",
    "and I can say I will always cherish the month I spent traveling in Morocco.\n",
    "\n",
    "\n",
    "Morocco has four imperial cities: Marrakesh, Fes, Meknes, and Rabat.\n",
    "Rabat is the current capital city. Although a modern city at first glance,\n",
    "it has several interesting historical attractions, such as the Kasbah of the Oudaias,\n",
    "the old medina, and the Hassan Tower. The gleaming Royal Mausoleum is also well worth a visit.\n",
    "\n",
    "Morocco has beaches along both the Mediterranean Sea and the Atlantic Ocean.\n",
    "There are many lovely beaches to relax on. Popular holiday spots with foreign\n",
    "visitors include Tangier and Agadir, while Asilah attracts mainly locals and\n",
    "Spanish visitors. Although fairly under-visited by international tourists,\n",
    "places like El Jadida, Oualidia, and El Jebha see significant numbers of\n",
    "domestic tourists during the summer months. The most popular beaches \n",
    "typically have great facilities within easy reach, and some destinations,\n",
    "such as Essaouria, are perfect for lovers of water sports.\n",
    "\n",
    "Morocco’s Atlas Mountains have three separate ranges: the High Atlas, \n",
    "the Middle Atlas, and the Anti Atlas. Each offers a variety of hiking experiences\n",
    "for people of all experience and skill levels. Jbel Toubkal is the country’s highest mountain,\n",
    "located in the High Atlas Mountains. Easily reached from Marrakesh,\n",
    "the soaring giant attracts many outdoor lovers all year round.\n",
    "The Rif Mountains, in the north of the country and close to the blue city of Chefchaouen,\n",
    "are also great for outdoor adventures. Hiking, mountain biking,\n",
    "and horse riding are among the attractions people can enjoy in Morocco’s mountains,\n",
    "as well as visiting Berber villages, bird spotting, and seeing local wildlife.\n",
    "\n",
    "Morocco’s population is made up of both Arabs and Berbers, \n",
    "with each group having contributed to the rich traditions and cultural practices \n",
    "that can be observed in the country today. You will also be able to spot influences\n",
    "from Andalusia, from the times when Andalusian Muslims moved to North Africa. \n",
    "There are also legacies from the colonial era, with French, Portuguese, and Spanish \n",
    "influences seen in different parts of the country. Especially interesting for a predominantly \n",
    "Islamic nation, there have also been influences from Jews in Morocco. Indeed,\n",
    "you’ll find the only Jewish Museum in the entire Arab world in Casablanca.\n",
    "\n",
    "Morocco is known for its tasty cuisine. Spices are found in abundance in a typical Moroccan kitchen,\n",
    "adding plenty of flavor to dishes. Bread is a staple food, and there are various types,\n",
    "such as khobz, msemen, and baghrir to enjoy.\n",
    "\n",
    "Meat is a common ingredient in Moroccan dishes,\n",
    "with lamb, mutton, beef, and chicken being the most common.\n",
    "Seafood and fish are especially plentiful in coastal areas. \n",
    "Sardines are a particular favorite in Morocco. \n",
    "The most well-known Moroccan dishes include couscous and tagine. \n",
    "Pastilla, bissara, harira, and brochettes are other dishes to try. \n",
    "You’ll also find numerous sandwiches and pizzas, as well as a wide\n",
    "array of Moroccan pastries.\n",
    "\n",
    "From plush five-star hotels to rustic tented camps in the mountains,\n",
    "Morocco offers a place to stay to suit all budgets, comfort levels,\n",
    "and expectations of adventure. Travelers can stay in traditional \n",
    "Moroccan accommodations, known as riads and dars, in the old medinas of \n",
    "many cities. This is a perfect way to experience life as a local. With smaller \n",
    "properties, it is sometimes possible to rent the entire establishment for a private stay.\n",
    "\n",
    "Morocco is known for being one of the most tolerant of \n",
    "the Arab nations. The country is relatively safe, peaceful, a\n",
    "nd stable. Moroccan people, both Arabic and Berber, are also \n",
    "noted for their warm hospitality and warm, friendly nature. \n",
    "Tourists may receive curious looks in areas that see few visitors, \n",
    "but this is often followed by cheery waves, especially from children, \n",
    "and attempts to strike up a conversation. As a former French colony, \n",
    "French is widely spoken. In popular tourist areas, English is commonly spoken too. \n",
    "Communication is rarely a problem for visitors.\n",
    "\"\"\""
   ]
  },
  {
   "cell_type": "code",
   "execution_count": 10,
   "id": "4dc2f82a",
   "metadata": {},
   "outputs": [],
   "source": [
    "import re\n",
    "\n",
    "DOCUMENT = re.sub(r'\\n|\\r', ' ', DOCUMENT)\n",
    "DOCUMENT = re.sub(r' +', ' ', DOCUMENT)\n",
    "DOCUMENT = DOCUMENT.strip()"
   ]
  },
  {
   "cell_type": "code",
   "execution_count": 11,
   "id": "4b5189c9",
   "metadata": {},
   "outputs": [
    {
     "data": {
      "text/plain": [
       "50"
      ]
     },
     "execution_count": 11,
     "metadata": {},
     "output_type": "execute_result"
    }
   ],
   "source": [
    "import nltk\n",
    "\n",
    "sentences = nltk.sent_tokenize(DOCUMENT)\n",
    "len(sentences)"
   ]
  },
  {
   "cell_type": "code",
   "execution_count": 12,
   "id": "6ba141e0",
   "metadata": {},
   "outputs": [],
   "source": [
    "import numpy as np\n",
    "\n",
    "\n",
    "stop_words = nltk.corpus.stopwords.words('english')\n",
    "\n",
    "def normalize_document(doc):\n",
    "    # lower case and remove special characters\\whitespaces\n",
    "    doc = re.sub(r'[^a-zA-Z\\s]', '', doc, re.I|re.A)\n",
    "    doc = doc.lower()\n",
    "    doc = doc.strip()\n",
    "    # tokenize document\n",
    "    tokens = nltk.word_tokenize(doc)\n",
    "    # re-create document from filtered tokens\n",
    "    filtered_tokens = [token for token in tokens if token not in stop_words]\n",
    "    # re-create document from filtered tokens\n",
    "    doc = ' '.join(filtered_tokens)\n",
    "    return doc\n",
    "\n",
    "normalize_corpus = np.vectorize(normalize_document)"
   ]
  },
  {
   "cell_type": "code",
   "execution_count": 13,
   "id": "7af99d12",
   "metadata": {},
   "outputs": [
    {
     "data": {
      "text/plain": [
       "array(['morocco growing popular tourist destination incredibly accessible way experience north african culture budget',\n",
       "       'located northwestern edge massive african continent morocco quick flight europebudget airlines like ryanair fly morocco less super easy fit morocco european travel adventure',\n",
       "       'youre coming elsewhere world marrakech casablanca fez major international airports reliable airlines flying daily',\n",
       "       'easy flights available reason visit morocco',\n",
       "       'country desert mountains beaches small villages big cities little something everyone'],\n",
       "      dtype='<U173')"
      ]
     },
     "execution_count": 13,
     "metadata": {},
     "output_type": "execute_result"
    }
   ],
   "source": [
    "norm_sentences = normalize_corpus(sentences)\n",
    "norm_sentences[:5]"
   ]
  },
  {
   "cell_type": "code",
   "execution_count": 14,
   "id": "e740c52f",
   "metadata": {},
   "outputs": [
    {
     "name": "stdout",
     "output_type": "stream",
     "text": [
      "(353, 50)\n"
     ]
    },
    {
     "data": {
      "text/html": [
       "<div>\n",
       "<style scoped>\n",
       "    .dataframe tbody tr th:only-of-type {\n",
       "        vertical-align: middle;\n",
       "    }\n",
       "\n",
       "    .dataframe tbody tr th {\n",
       "        vertical-align: top;\n",
       "    }\n",
       "\n",
       "    .dataframe thead th {\n",
       "        text-align: right;\n",
       "    }\n",
       "</style>\n",
       "<table border=\"1\" class=\"dataframe\">\n",
       "  <thead>\n",
       "    <tr style=\"text-align: right;\">\n",
       "      <th></th>\n",
       "      <th>0</th>\n",
       "      <th>1</th>\n",
       "      <th>2</th>\n",
       "      <th>3</th>\n",
       "      <th>4</th>\n",
       "      <th>5</th>\n",
       "      <th>6</th>\n",
       "      <th>7</th>\n",
       "      <th>8</th>\n",
       "      <th>9</th>\n",
       "      <th>...</th>\n",
       "      <th>40</th>\n",
       "      <th>41</th>\n",
       "      <th>42</th>\n",
       "      <th>43</th>\n",
       "      <th>44</th>\n",
       "      <th>45</th>\n",
       "      <th>46</th>\n",
       "      <th>47</th>\n",
       "      <th>48</th>\n",
       "      <th>49</th>\n",
       "    </tr>\n",
       "  </thead>\n",
       "  <tbody>\n",
       "    <tr>\n",
       "      <th>able</th>\n",
       "      <td>0.00</td>\n",
       "      <td>0.0</td>\n",
       "      <td>0.0</td>\n",
       "      <td>0.0</td>\n",
       "      <td>0.0</td>\n",
       "      <td>0.00</td>\n",
       "      <td>0.0</td>\n",
       "      <td>0.0</td>\n",
       "      <td>0.0</td>\n",
       "      <td>0.0</td>\n",
       "      <td>...</td>\n",
       "      <td>0.00</td>\n",
       "      <td>0.0</td>\n",
       "      <td>0.0</td>\n",
       "      <td>0.0</td>\n",
       "      <td>0.0</td>\n",
       "      <td>0.0</td>\n",
       "      <td>0.0</td>\n",
       "      <td>0.0</td>\n",
       "      <td>0.0</td>\n",
       "      <td>0.0</td>\n",
       "    </tr>\n",
       "    <tr>\n",
       "      <th>abundance</th>\n",
       "      <td>0.00</td>\n",
       "      <td>0.0</td>\n",
       "      <td>0.0</td>\n",
       "      <td>0.0</td>\n",
       "      <td>0.0</td>\n",
       "      <td>0.00</td>\n",
       "      <td>0.0</td>\n",
       "      <td>0.0</td>\n",
       "      <td>0.0</td>\n",
       "      <td>0.0</td>\n",
       "      <td>...</td>\n",
       "      <td>0.00</td>\n",
       "      <td>0.0</td>\n",
       "      <td>0.0</td>\n",
       "      <td>0.0</td>\n",
       "      <td>0.0</td>\n",
       "      <td>0.0</td>\n",
       "      <td>0.0</td>\n",
       "      <td>0.0</td>\n",
       "      <td>0.0</td>\n",
       "      <td>0.0</td>\n",
       "    </tr>\n",
       "    <tr>\n",
       "      <th>accessible</th>\n",
       "      <td>0.31</td>\n",
       "      <td>0.0</td>\n",
       "      <td>0.0</td>\n",
       "      <td>0.0</td>\n",
       "      <td>0.0</td>\n",
       "      <td>0.00</td>\n",
       "      <td>0.0</td>\n",
       "      <td>0.0</td>\n",
       "      <td>0.0</td>\n",
       "      <td>0.0</td>\n",
       "      <td>...</td>\n",
       "      <td>0.00</td>\n",
       "      <td>0.0</td>\n",
       "      <td>0.0</td>\n",
       "      <td>0.0</td>\n",
       "      <td>0.0</td>\n",
       "      <td>0.0</td>\n",
       "      <td>0.0</td>\n",
       "      <td>0.0</td>\n",
       "      <td>0.0</td>\n",
       "      <td>0.0</td>\n",
       "    </tr>\n",
       "    <tr>\n",
       "      <th>accommodations</th>\n",
       "      <td>0.00</td>\n",
       "      <td>0.0</td>\n",
       "      <td>0.0</td>\n",
       "      <td>0.0</td>\n",
       "      <td>0.0</td>\n",
       "      <td>0.00</td>\n",
       "      <td>0.0</td>\n",
       "      <td>0.0</td>\n",
       "      <td>0.0</td>\n",
       "      <td>0.0</td>\n",
       "      <td>...</td>\n",
       "      <td>0.31</td>\n",
       "      <td>0.0</td>\n",
       "      <td>0.0</td>\n",
       "      <td>0.0</td>\n",
       "      <td>0.0</td>\n",
       "      <td>0.0</td>\n",
       "      <td>0.0</td>\n",
       "      <td>0.0</td>\n",
       "      <td>0.0</td>\n",
       "      <td>0.0</td>\n",
       "    </tr>\n",
       "    <tr>\n",
       "      <th>adding</th>\n",
       "      <td>0.00</td>\n",
       "      <td>0.0</td>\n",
       "      <td>0.0</td>\n",
       "      <td>0.0</td>\n",
       "      <td>0.0</td>\n",
       "      <td>0.00</td>\n",
       "      <td>0.0</td>\n",
       "      <td>0.0</td>\n",
       "      <td>0.0</td>\n",
       "      <td>0.0</td>\n",
       "      <td>...</td>\n",
       "      <td>0.00</td>\n",
       "      <td>0.0</td>\n",
       "      <td>0.0</td>\n",
       "      <td>0.0</td>\n",
       "      <td>0.0</td>\n",
       "      <td>0.0</td>\n",
       "      <td>0.0</td>\n",
       "      <td>0.0</td>\n",
       "      <td>0.0</td>\n",
       "      <td>0.0</td>\n",
       "    </tr>\n",
       "    <tr>\n",
       "      <th>adventure</th>\n",
       "      <td>0.00</td>\n",
       "      <td>0.2</td>\n",
       "      <td>0.0</td>\n",
       "      <td>0.0</td>\n",
       "      <td>0.0</td>\n",
       "      <td>0.00</td>\n",
       "      <td>0.0</td>\n",
       "      <td>0.0</td>\n",
       "      <td>0.0</td>\n",
       "      <td>0.0</td>\n",
       "      <td>...</td>\n",
       "      <td>0.00</td>\n",
       "      <td>0.0</td>\n",
       "      <td>0.0</td>\n",
       "      <td>0.0</td>\n",
       "      <td>0.0</td>\n",
       "      <td>0.0</td>\n",
       "      <td>0.0</td>\n",
       "      <td>0.0</td>\n",
       "      <td>0.0</td>\n",
       "      <td>0.0</td>\n",
       "    </tr>\n",
       "    <tr>\n",
       "      <th>adventures</th>\n",
       "      <td>0.00</td>\n",
       "      <td>0.0</td>\n",
       "      <td>0.0</td>\n",
       "      <td>0.0</td>\n",
       "      <td>0.0</td>\n",
       "      <td>0.00</td>\n",
       "      <td>0.0</td>\n",
       "      <td>0.0</td>\n",
       "      <td>0.0</td>\n",
       "      <td>0.0</td>\n",
       "      <td>...</td>\n",
       "      <td>0.00</td>\n",
       "      <td>0.0</td>\n",
       "      <td>0.0</td>\n",
       "      <td>0.0</td>\n",
       "      <td>0.0</td>\n",
       "      <td>0.0</td>\n",
       "      <td>0.0</td>\n",
       "      <td>0.0</td>\n",
       "      <td>0.0</td>\n",
       "      <td>0.0</td>\n",
       "    </tr>\n",
       "    <tr>\n",
       "      <th>affordable</th>\n",
       "      <td>0.00</td>\n",
       "      <td>0.0</td>\n",
       "      <td>0.0</td>\n",
       "      <td>0.0</td>\n",
       "      <td>0.0</td>\n",
       "      <td>0.42</td>\n",
       "      <td>0.0</td>\n",
       "      <td>0.0</td>\n",
       "      <td>0.0</td>\n",
       "      <td>0.0</td>\n",
       "      <td>...</td>\n",
       "      <td>0.00</td>\n",
       "      <td>0.0</td>\n",
       "      <td>0.0</td>\n",
       "      <td>0.0</td>\n",
       "      <td>0.0</td>\n",
       "      <td>0.0</td>\n",
       "      <td>0.0</td>\n",
       "      <td>0.0</td>\n",
       "      <td>0.0</td>\n",
       "      <td>0.0</td>\n",
       "    </tr>\n",
       "    <tr>\n",
       "      <th>africa</th>\n",
       "      <td>0.00</td>\n",
       "      <td>0.0</td>\n",
       "      <td>0.0</td>\n",
       "      <td>0.0</td>\n",
       "      <td>0.0</td>\n",
       "      <td>0.00</td>\n",
       "      <td>0.0</td>\n",
       "      <td>0.0</td>\n",
       "      <td>0.0</td>\n",
       "      <td>0.0</td>\n",
       "      <td>...</td>\n",
       "      <td>0.00</td>\n",
       "      <td>0.0</td>\n",
       "      <td>0.0</td>\n",
       "      <td>0.0</td>\n",
       "      <td>0.0</td>\n",
       "      <td>0.0</td>\n",
       "      <td>0.0</td>\n",
       "      <td>0.0</td>\n",
       "      <td>0.0</td>\n",
       "      <td>0.0</td>\n",
       "    </tr>\n",
       "    <tr>\n",
       "      <th>african</th>\n",
       "      <td>0.28</td>\n",
       "      <td>0.2</td>\n",
       "      <td>0.0</td>\n",
       "      <td>0.0</td>\n",
       "      <td>0.0</td>\n",
       "      <td>0.00</td>\n",
       "      <td>0.0</td>\n",
       "      <td>0.0</td>\n",
       "      <td>0.0</td>\n",
       "      <td>0.0</td>\n",
       "      <td>...</td>\n",
       "      <td>0.00</td>\n",
       "      <td>0.0</td>\n",
       "      <td>0.0</td>\n",
       "      <td>0.0</td>\n",
       "      <td>0.0</td>\n",
       "      <td>0.0</td>\n",
       "      <td>0.0</td>\n",
       "      <td>0.0</td>\n",
       "      <td>0.0</td>\n",
       "      <td>0.0</td>\n",
       "    </tr>\n",
       "  </tbody>\n",
       "</table>\n",
       "<p>10 rows × 50 columns</p>\n",
       "</div>"
      ],
      "text/plain": [
       "                  0    1    2    3    4     5    6    7    8    9   ...    40  \\\n",
       "able            0.00  0.0  0.0  0.0  0.0  0.00  0.0  0.0  0.0  0.0  ...  0.00   \n",
       "abundance       0.00  0.0  0.0  0.0  0.0  0.00  0.0  0.0  0.0  0.0  ...  0.00   \n",
       "accessible      0.31  0.0  0.0  0.0  0.0  0.00  0.0  0.0  0.0  0.0  ...  0.00   \n",
       "accommodations  0.00  0.0  0.0  0.0  0.0  0.00  0.0  0.0  0.0  0.0  ...  0.31   \n",
       "adding          0.00  0.0  0.0  0.0  0.0  0.00  0.0  0.0  0.0  0.0  ...  0.00   \n",
       "adventure       0.00  0.2  0.0  0.0  0.0  0.00  0.0  0.0  0.0  0.0  ...  0.00   \n",
       "adventures      0.00  0.0  0.0  0.0  0.0  0.00  0.0  0.0  0.0  0.0  ...  0.00   \n",
       "affordable      0.00  0.0  0.0  0.0  0.0  0.42  0.0  0.0  0.0  0.0  ...  0.00   \n",
       "africa          0.00  0.0  0.0  0.0  0.0  0.00  0.0  0.0  0.0  0.0  ...  0.00   \n",
       "african         0.28  0.2  0.0  0.0  0.0  0.00  0.0  0.0  0.0  0.0  ...  0.00   \n",
       "\n",
       "                 41   42   43   44   45   46   47   48   49  \n",
       "able            0.0  0.0  0.0  0.0  0.0  0.0  0.0  0.0  0.0  \n",
       "abundance       0.0  0.0  0.0  0.0  0.0  0.0  0.0  0.0  0.0  \n",
       "accessible      0.0  0.0  0.0  0.0  0.0  0.0  0.0  0.0  0.0  \n",
       "accommodations  0.0  0.0  0.0  0.0  0.0  0.0  0.0  0.0  0.0  \n",
       "adding          0.0  0.0  0.0  0.0  0.0  0.0  0.0  0.0  0.0  \n",
       "adventure       0.0  0.0  0.0  0.0  0.0  0.0  0.0  0.0  0.0  \n",
       "adventures      0.0  0.0  0.0  0.0  0.0  0.0  0.0  0.0  0.0  \n",
       "affordable      0.0  0.0  0.0  0.0  0.0  0.0  0.0  0.0  0.0  \n",
       "africa          0.0  0.0  0.0  0.0  0.0  0.0  0.0  0.0  0.0  \n",
       "african         0.0  0.0  0.0  0.0  0.0  0.0  0.0  0.0  0.0  \n",
       "\n",
       "[10 rows x 50 columns]"
      ]
     },
     "execution_count": 14,
     "metadata": {},
     "output_type": "execute_result"
    }
   ],
   "source": [
    "from sklearn.feature_extraction.text import TfidfVectorizer\n",
    "import pandas as pd\n",
    "\n",
    "tv = TfidfVectorizer(min_df=0., max_df=1., use_idf=True)\n",
    "dt_matrix = tv.fit_transform(norm_sentences)\n",
    "dt_matrix = dt_matrix.toarray()\n",
    "\n",
    "vocab = tv.get_feature_names()\n",
    "td_matrix = dt_matrix.T\n",
    "print(td_matrix.shape)\n",
    "pd.DataFrame(np.round(td_matrix, 2), index=vocab).head(10)"
   ]
  },
  {
   "cell_type": "code",
   "execution_count": 15,
   "id": "b788b50e",
   "metadata": {},
   "outputs": [],
   "source": [
    "from scipy.sparse.linalg import svds\n"
   ]
  },
  {
   "cell_type": "code",
   "execution_count": 16,
   "id": "eec742db",
   "metadata": {},
   "outputs": [],
   "source": [
    "# low rank SVD \n",
    "def low_rank_svd(matrix, singular_count=2):\n",
    "    u, s, vt = svds(matrix, k=singular_count)\n",
    "    return u, s, vt"
   ]
  },
  {
   "cell_type": "code",
   "execution_count": 17,
   "id": "d704c251",
   "metadata": {},
   "outputs": [
    {
     "name": "stdout",
     "output_type": "stream",
     "text": [
      "(353, 3) (3,) (3, 50)\n"
     ]
    }
   ],
   "source": [
    "num_sentences = 5\n",
    "num_topics = 3\n",
    "# get low rank SVD components\n",
    "u, s, vt = low_rank_svd(td_matrix, singular_count=num_topics)  \n",
    "print(u.shape, s.shape, vt.shape)\n",
    "term_topic_mat, singular_values, topic_document_mat = u, s, vt"
   ]
  },
  {
   "cell_type": "code",
   "execution_count": 18,
   "id": "9e2dd8b5",
   "metadata": {},
   "outputs": [],
   "source": [
    "# remove singular values below threshold                                         \n",
    "sv_threshold = 0.5\n",
    "min_sigma_value = max(singular_values) * sv_threshold\n",
    "singular_values[singular_values < min_sigma_value] = 0"
   ]
  },
  {
   "cell_type": "code",
   "execution_count": 19,
   "id": "303e0074",
   "metadata": {},
   "outputs": [
    {
     "data": {
      "text/plain": [
       "array([0.36068191, 0.52457065, 0.10764799, 0.35665745, 0.36367493,\n",
       "       0.06644566, 0.38297003, 0.34570092, 0.50153681, 0.27013283,\n",
       "       0.28672518, 0.12066918, 0.13614824, 0.29533541, 0.29979231,\n",
       "       0.15387121, 0.20541654, 0.04082031, 0.24483424, 0.49822149,\n",
       "       0.27656639, 0.53315594, 0.14628311, 0.4426064 , 0.44032635,\n",
       "       0.16681535, 0.28606176, 0.35817741, 0.37708389, 0.22889358,\n",
       "       0.48288288, 0.39795767, 0.06553104, 0.37399227, 0.10845917,\n",
       "       0.36740725, 0.48553991, 0.2504293 , 0.46713609, 0.28005087,\n",
       "       0.2803087 , 0.29174462, 0.070966  , 0.43988483, 0.15055325,\n",
       "       0.35283103, 0.12704831, 0.14408735, 0.16750811, 0.09457124])"
      ]
     },
     "execution_count": 19,
     "metadata": {},
     "output_type": "execute_result"
    }
   ],
   "source": [
    "# compute salience scores for all sentences in document\n",
    "salience_scores = np.sqrt(np.dot(np.square(singular_values), \n",
    "                                 np.square(topic_document_mat)))\n",
    "salience_scores"
   ]
  },
  {
   "cell_type": "code",
   "execution_count": 20,
   "id": "e0461827",
   "metadata": {},
   "outputs": [],
   "source": [
    "# rank sentences based on their salience scores\n",
    "top_sentence_indices = (-salience_scores).argsort()[:num_sentences]\n",
    "# sort top sentence\n",
    "top_sentence_indices.sort()"
   ]
  },
  {
   "cell_type": "code",
   "execution_count": 21,
   "id": "b8d4cdc7",
   "metadata": {},
   "outputs": [
    {
     "name": "stdout",
     "output_type": "stream",
     "text": [
      "Located on the north-western edge of the massive African continent, Morocco is just a quick flight from Europe.Budget airlines like Ryanair fly to Morocco for less than $100, so it's super easy to fit Morocco into a European travel adventure.\n",
      "here is a list of reasons to travel to Morocco.\n",
      "Morocco’s Atlas Mountains have three separate ranges: the High Atlas, the Middle Atlas, and the Anti Atlas.\n",
      "Jbel Toubkal is the country’s highest mountain, located in the High Atlas Mountains.\n",
      "The most well-known Moroccan dishes include couscous and tagine.\n"
     ]
    }
   ],
   "source": [
    "print('\\n'.join(np.array(sentences)[top_sentence_indices]))"
   ]
  },
  {
   "cell_type": "code",
   "execution_count": null,
   "id": "cb980732",
   "metadata": {},
   "outputs": [],
   "source": []
  }
 ],
 "metadata": {
  "kernelspec": {
   "display_name": "Python 3",
   "language": "python",
   "name": "python3"
  },
  "language_info": {
   "codemirror_mode": {
    "name": "ipython",
    "version": 3
   },
   "file_extension": ".py",
   "mimetype": "text/x-python",
   "name": "python",
   "nbconvert_exporter": "python",
   "pygments_lexer": "ipython3",
   "version": "3.8.8"
  }
 },
 "nbformat": 4,
 "nbformat_minor": 5
}
